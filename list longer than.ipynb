{
 "cells": [
  {
   "cell_type": "code",
   "execution_count": 29,
   "metadata": {},
   "outputs": [
    {
     "name": "stdout",
     "output_type": "stream",
     "text": [
      "Enter the list of words:gtrg,erfgth,ergtrh,trhyjyrehy,rthy,jutre\n",
      "Enter the number longer than:3\n",
      "['gtrg', 'erfgth', 'ergtrh', 'trhyjyrehy', 'rthy', 'jutre']\n"
     ]
    }
   ],
   "source": [
    "def filter_long_words(str,n):\n",
    "    li=list(str.split(\",\"))\n",
    "    nli=[]\n",
    "    for i in li:\n",
    "        if(len(i)>n):\n",
    "            nli.append(i)\n",
    "    return nli\n",
    "str=input(\"Enter the list of words:\")\n",
    "n=int(input(\"Enter the number longer than:\"))\n",
    "print(filter_long_words(str,n))"
   ]
  },
  {
   "cell_type": "code",
   "execution_count": null,
   "metadata": {},
   "outputs": [],
   "source": []
  }
 ],
 "metadata": {
  "kernelspec": {
   "display_name": "Python 3",
   "language": "python",
   "name": "python3"
  },
  "language_info": {
   "codemirror_mode": {
    "name": "ipython",
    "version": 3
   },
   "file_extension": ".py",
   "mimetype": "text/x-python",
   "name": "python",
   "nbconvert_exporter": "python",
   "pygments_lexer": "ipython3",
   "version": "3.7.4"
  }
 },
 "nbformat": 4,
 "nbformat_minor": 2
}
